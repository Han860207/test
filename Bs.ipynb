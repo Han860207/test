{
 "cells": [
  {
   "cell_type": "code",
   "execution_count": 1,
   "id": "c3f11cc3",
   "metadata": {},
   "outputs": [],
   "source": [
    "import sqlite3\n",
    "from flask import Flask\n",
    "from flask import request,redirect\n",
    "from flask import render_template,url_for\n",
    "import subprocess as sp\n",
    "import os\n",
    "import pandas as pd"
   ]
  },
  {
   "cell_type": "code",
   "execution_count": 2,
   "id": "bbb6453c",
   "metadata": {},
   "outputs": [],
   "source": [
    "def connect_to_db(db,area,month1,month2,month3):\n",
    "    with sqlite3.connect(db) as conn :\n",
    "        cursor = conn.cursor()\n",
    "        data = cursor.execute('SELECT temp from temp where area = \"%s\" and month in (\"%s\",\"%s\",\"%s\") ;'%(area,month1,month2,month3))\n",
    "    avg = 0\n",
    "    cnt = 1\n",
    "    tmp = []\n",
    "    for i in data :\n",
    "        tmp.append(i[0])\n",
    "        cnt+=1\n",
    "        avg+=float(i[0])\n",
    "    if cnt < 3 :\n",
    "        return 'Please select 3 different month.'\n",
    "    avg = avg/3\n",
    "    return '%s : %s ,  %s : %s , %s : %s , average : %s' %(month1,tmp[0],month2,tmp[1],month3,tmp[2],avg)"
   ]
  },
  {
   "cell_type": "code",
   "execution_count": 3,
   "id": "3723298a",
   "metadata": {},
   "outputs": [],
   "source": [
    "## write avg_temp data to html\n",
    "def temp_html(db,name):\n",
    "    with sqlite3.connect(db) as conn :\n",
    "        command = \"\"\"SELECT * FROM temp\"\"\"\n",
    "        data = pd.read_sql(command,conn)\n",
    "    with open(os.path.join(os.getcwd(),'templates')+'/%s.html'%name,'w',encoding ='utf-8' ) as f :\n",
    "        f.write(data.to_html())"
   ]
  },
  {
   "cell_type": "code",
   "execution_count": 4,
   "id": "9cd919b6",
   "metadata": {},
   "outputs": [
    {
     "name": "stdout",
     "output_type": "stream",
     "text": [
      " * Serving Flask app \"__main__\" (lazy loading)\n",
      " * Environment: production\n",
      "   WARNING: This is a development server. Do not use it in a production deployment.\n",
      "   Use a production WSGI server instead.\n",
      " * Debug mode: off\n"
     ]
    },
    {
     "name": "stderr",
     "output_type": "stream",
     "text": [
      " * Running on http://127.0.0.1:5000/ (Press CTRL+C to quit)\n",
      "127.0.0.1 - - [11/Feb/2022 15:50:15] \"\u001b[37mGET / HTTP/1.1\u001b[0m\" 200 -\n",
      "127.0.0.1 - - [11/Feb/2022 15:50:20] \"\u001b[32mPOST /submit HTTP/1.1\u001b[0m\" 302 -\n",
      "127.0.0.1 - - [11/Feb/2022 15:50:20] \"\u001b[37mGET /success/四月%20:%2015.7%20%2C%20%20二月%20:%2021.4%20%2C%20七月%20:%2029.0%20%2C%20average%20:%2022.03333333333333 HTTP/1.1\u001b[0m\" 200 -\n"
     ]
    }
   ],
   "source": [
    "temp_html('avg_temp.db','2')\n",
    "temp_html('high_temp.db','3')\n",
    "app = Flask(__name__)\n",
    "## index\n",
    "@app.route('/')\n",
    "def index() :\n",
    "    return render_template('1.html')\n",
    "## after submit , return to success and print ans\n",
    "@app.route('/success/<string:ans>')\n",
    "def success(ans):\n",
    "    return ans\n",
    "##  when submit , get data from database , redirect to success\n",
    "@app.route('/submit',methods=['POST'])\n",
    "def submit():\n",
    "    if request.method == 'POST' :\n",
    "        area,which,month1,month2,month3 = request.form['area'],request.form['which'],\\\n",
    "        request.form['month1'],request.form['month2'],request.form['month3']     \n",
    "        if which == 'avg' :\n",
    "            ans = connect_to_db('avg_temp.db',area,month1,month2,month3)\n",
    "        else :\n",
    "            ans = connect_to_db('higt_temp.db',area,month1,month2,month3)\n",
    "    return redirect(url_for('success',ans=ans))\n",
    "## show database of avg_temp\n",
    "@app.route('/database/avg_temp/')\n",
    "def database_avg_temp():\n",
    "    return render_template('2.html')\n",
    "## show database of higt_temp\n",
    "@app.route('/database/high_temp/')\n",
    "def database_high_temp():\n",
    "    return render_template('3.html')\n",
    "app.run()"
   ]
  },
  {
   "cell_type": "code",
   "execution_count": null,
   "id": "f17c2aed",
   "metadata": {},
   "outputs": [],
   "source": []
  }
 ],
 "metadata": {
  "kernelspec": {
   "display_name": "Python 3",
   "language": "python",
   "name": "python3"
  },
  "language_info": {
   "codemirror_mode": {
    "name": "ipython",
    "version": 3
   },
   "file_extension": ".py",
   "mimetype": "text/x-python",
   "name": "python",
   "nbconvert_exporter": "python",
   "pygments_lexer": "ipython3",
   "version": "3.8.8"
  }
 },
 "nbformat": 4,
 "nbformat_minor": 5
}
